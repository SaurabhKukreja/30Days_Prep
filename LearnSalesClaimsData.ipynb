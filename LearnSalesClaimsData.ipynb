{
  "nbformat": 4,
  "nbformat_minor": 0,
  "metadata": {
    "colab": {
      "name": "LearnSalesClaimsData.ipynb",
      "provenance": [],
      "collapsed_sections": [],
      "authorship_tag": "ABX9TyPIruR126dcHYaSyFz6u4Yu",
      "include_colab_link": true
    },
    "kernelspec": {
      "name": "python3",
      "display_name": "Python 3"
    },
    "language_info": {
      "name": "python"
    }
  },
  "cells": [
    {
      "cell_type": "markdown",
      "metadata": {
        "id": "view-in-github",
        "colab_type": "text"
      },
      "source": [
        "<a href=\"https://colab.research.google.com/github/SaurabhKukreja/30Days_Prep/blob/master/LearnSalesClaimsData.ipynb\" target=\"_parent\"><img src=\"https://colab.research.google.com/assets/colab-badge.svg\" alt=\"Open In Colab\"/></a>"
      ]
    },
    {
      "cell_type": "code",
      "execution_count": null,
      "metadata": {
        "colab": {
          "base_uri": "https://localhost:8080/"
        },
        "id": "G3W8q6dcFICb",
        "outputId": "bce43528-21cc-4e61-ba20-28fc57e44bd5"
      },
      "outputs": [
        {
          "output_type": "stream",
          "name": "stdout",
          "text": [
            "Looking in indexes: https://pypi.org/simple, https://us-python.pkg.dev/colab-wheels/public/simple/\n",
            "Collecting pyspark\n",
            "  Downloading pyspark-3.3.0.tar.gz (281.3 MB)\n",
            "\u001b[K     |████████████████████████████████| 281.3 MB 42 kB/s \n",
            "\u001b[?25hCollecting py4j==0.10.9.5\n",
            "  Downloading py4j-0.10.9.5-py2.py3-none-any.whl (199 kB)\n",
            "\u001b[K     |████████████████████████████████| 199 kB 61.1 MB/s \n",
            "\u001b[?25hBuilding wheels for collected packages: pyspark\n",
            "  Building wheel for pyspark (setup.py) ... \u001b[?25l\u001b[?25hdone\n",
            "  Created wheel for pyspark: filename=pyspark-3.3.0-py2.py3-none-any.whl size=281764026 sha256=1730bd58c8c11fd28f152b78c05bb96f39738f8ad4e4525d977ea03ff02184b5\n",
            "  Stored in directory: /root/.cache/pip/wheels/7a/8e/1b/f73a52650d2e5f337708d9f6a1750d451a7349a867f928b885\n",
            "Successfully built pyspark\n",
            "Installing collected packages: py4j, pyspark\n",
            "Successfully installed py4j-0.10.9.5 pyspark-3.3.0\n"
          ]
        }
      ],
      "source": [
        "pip install pyspark"
      ]
    },
    {
      "cell_type": "code",
      "source": [
        "from google.colab import drive\n",
        "from pyspark.sql import SparkSession\n",
        "import pandas as pd"
      ],
      "metadata": {
        "id": "nJZCqiYSFU3e"
      },
      "execution_count": null,
      "outputs": []
    },
    {
      "cell_type": "code",
      "source": [
        "spark = (\n",
        "    SparkSession.builder.appName(\"app_name\").getOrCreate()\n",
        ")"
      ],
      "metadata": {
        "id": "w4dwVkjfFYef"
      },
      "execution_count": null,
      "outputs": []
    },
    {
      "cell_type": "code",
      "source": [
        "drive.mount('/content/drive')"
      ],
      "metadata": {
        "id": "MClcZCVLHIX6",
        "colab": {
          "base_uri": "https://localhost:8080/"
        },
        "outputId": "4da0756e-f610-487a-9dd5-cf0bfa816d87"
      },
      "execution_count": null,
      "outputs": [
        {
          "output_type": "stream",
          "name": "stdout",
          "text": [
            "Mounted at /content/drive\n"
          ]
        }
      ]
    },
    {
      "cell_type": "code",
      "source": [
        "import pyspark\n",
        "from pyspark.sql.functions import to_date, col, sum"
      ],
      "metadata": {
        "id": "KzLuUyjQKotJ"
      },
      "execution_count": null,
      "outputs": []
    },
    {
      "cell_type": "code",
      "source": [
        "enrollment_file = '/content/drive/My Drive/Colab Notebooks/Arine/enrollment.csv'\n",
        "pharmacy_claim = '/content/drive/My Drive/Colab Notebooks/Arine/pharmacy_claims/*'\n",
        "lookup = '/content/drive/My Drive/Colab Notebooks/Arine/ndc9_lookup.json'\n",
        "enrol_df = spark.read.option(\"header\",True).csv(enrollment_file)\n",
        "claims_df = spark.read.option(\"header\",True).csv(pharmacy_claim)\n",
        "lookup_df = spark.read.option(\"header\",True).csv(lookup)"
      ],
      "metadata": {
        "id": "-669NEWWFjTC"
      },
      "execution_count": null,
      "outputs": []
    },
    {
      "cell_type": "markdown",
      "source": [
        "# Evaluating Enrollment File"
      ],
      "metadata": {
        "id": "3eRYsopFN9ci"
      }
    },
    {
      "cell_type": "code",
      "source": [
        "enrol_df.count()"
      ],
      "metadata": {
        "colab": {
          "base_uri": "https://localhost:8080/"
        },
        "id": "Lm8P5yT-9eMT",
        "outputId": "bc2bed2f-c65e-4ead-ef16-dde30cbc8090"
      },
      "execution_count": null,
      "outputs": [
        {
          "output_type": "execute_result",
          "data": {
            "text/plain": [
              "4597"
            ]
          },
          "metadata": {},
          "execution_count": 15
        }
      ]
    },
    {
      "cell_type": "code",
      "source": [
        "enrol_df.show()\n",
        "enrol_df.printSchema()\n"
      ],
      "metadata": {
        "colab": {
          "base_uri": "https://localhost:8080/"
        },
        "id": "4l9pf4aWGr7a",
        "outputId": "416f3626-4adb-4b61-af96-0b22a41b25be"
      },
      "execution_count": null,
      "outputs": [
        {
          "output_type": "stream",
          "name": "stdout",
          "text": [
            "+----------+-------------+-------------------+---------------------+----------+------+-----------+\n",
            "|birth_date|      card_id|enrollment_end_date|enrollment_start_date|first_name|gender|  last_name|\n",
            "+----------+-------------+-------------------+---------------------+----------+------+-----------+\n",
            "|1970-12-13|ID00032868314|         2018-11-01|           2018-05-01|      Saul|     M|     Nguyen|\n",
            "|1970-12-13|ID00032868314|         2999-12-31|           2019-08-01|      Saul|     M|     Nguyen|\n",
            "|1976-09-15|ID00039326267|         2020-04-28|           2020-06-01|      Mina|     F|      Jones|\n",
            "|1954-07-18|ID00065722935|         2020-05-28|           2018-05-01|   Barbara|     F|       Webb|\n",
            "|1967-09-17|ID00077400893|         2020-07-28|           2019-01-01|    Carmen|     F|  Mcclendon|\n",
            "|1953-02-12|ID00081368696|         2999-12-31|           2020-01-31|     David|     M|Rittenhouse|\n",
            "|1972-07-17|ID00118584072|         2999-12-31|           2019-04-01|     James|     M|    Pearson|\n",
            "|1965-11-05|ID00210770118|         2999-12-31|           2019-07-01|     David|     M|   Ackerman|\n",
            "|1971-09-07|ID00216584514|         2020-06-28|           2019-08-01|   Michael|     M|     Garner|\n",
            "|1965-11-10|ID00265023758|         2999-12-31|           2020-02-01|     Karyn|     F|      Brown|\n",
            "|1968-05-16|ID00292120171|         2999-12-31|           2018-05-01|    Eugene|     M|    Perkins|\n",
            "|1971-03-09|ID00298089244|         2018-12-01|           2018-06-01|  Kimberly|     F|  Hendricks|\n",
            "|1971-03-09|ID00298089244|         2020-03-28|           2019-09-01|  Kimberly|     F|  Hendricks|\n",
            "|1970-10-30|ID00428069191|         2999-12-31|           2018-02-01|     Bryan|     M|     Wilson|\n",
            "|1977-04-11|ID00444777497|         2020-05-28|           2020-03-01|  Kimberly|     F|     Warner|\n",
            "|1960-08-04|ID00514889410|         2020-01-28|           2020-05-01|     Ralph|     M|       Koch|\n",
            "|1960-08-04|ID00514889410|         2019-08-01|           2019-02-01|     Ralph|     M|       Koch|\n",
            "|1967-03-07|ID00522571169|         2999-12-31|           2018-09-01|   Cecilia|     F|     Harvey|\n",
            "|1978-02-05|ID00541791651|         2999-12-31|           2020-01-01|     Trudy|     F|      Marsh|\n",
            "|1970-12-01|ID00587081671|         2020-07-28|           2020-09-01|    Reggie|     M|    Anthony|\n",
            "+----------+-------------+-------------------+---------------------+----------+------+-----------+\n",
            "only showing top 20 rows\n",
            "\n",
            "root\n",
            " |-- birth_date: string (nullable = true)\n",
            " |-- card_id: string (nullable = true)\n",
            " |-- enrollment_end_date: string (nullable = true)\n",
            " |-- enrollment_start_date: string (nullable = true)\n",
            " |-- first_name: string (nullable = true)\n",
            " |-- gender: string (nullable = true)\n",
            " |-- last_name: string (nullable = true)\n",
            "\n"
          ]
        }
      ]
    },
    {
      "cell_type": "markdown",
      "source": [
        "**First I am checking if there are any nulls in enrollment_end_date to make sure every patient has an enrollment end date.**"
      ],
      "metadata": {
        "id": "sGHn0MywOKr3"
      }
    },
    {
      "cell_type": "code",
      "source": [
        "enrol_df.where(col((\"enrollment_end_date\")).isNull()).count()"
      ],
      "metadata": {
        "colab": {
          "base_uri": "https://localhost:8080/"
        },
        "id": "yfC8-4l5NCsw",
        "outputId": "c86d610a-f5a0-48c4-b48c-84784adccbe4"
      },
      "execution_count": null,
      "outputs": [
        {
          "output_type": "execute_result",
          "data": {
            "text/plain": [
              "0"
            ]
          },
          "metadata": {},
          "execution_count": 9
        }
      ]
    },
    {
      "cell_type": "markdown",
      "source": [
        "Question 1 : How many patients were enrolled in the program as of July 1st, 2020? \n",
        "Answer : 2546"
      ],
      "metadata": {
        "id": "sSOvpxmvOe0b"
      }
    },
    {
      "cell_type": "markdown",
      "source": [
        "Assumption : When we say \" as of July 1st 2020\", I am understanding it that patients whose end_date is less than or equal to July 1st 2020."
      ],
      "metadata": {
        "id": "7LnGLpkrOkFX"
      }
    },
    {
      "cell_type": "code",
      "source": [
        "enrol_df.filter(\"enrollment_end_date <= date'2020-07-01'\").count()"
      ],
      "metadata": {
        "colab": {
          "base_uri": "https://localhost:8080/"
        },
        "id": "SYhTbC0dKOzJ",
        "outputId": "26801479-f5dd-4225-c8ba-015219e462a4"
      },
      "execution_count": null,
      "outputs": [
        {
          "output_type": "execute_result",
          "data": {
            "text/plain": [
              "2546"
            ]
          },
          "metadata": {},
          "execution_count": 10
        }
      ]
    },
    {
      "cell_type": "markdown",
      "source": [
        "# Pharmacy Claims"
      ],
      "metadata": {
        "id": "Tr0Pn7UoPClP"
      }
    },
    {
      "cell_type": "markdown",
      "source": [
        "Note: the columns: 'card_id', 'claim_number', 'fill_date', 'ndc_11' are sufficient to identify an unique fill."
      ],
      "metadata": {
        "id": "UEAPjLCAQb6-"
      }
    },
    {
      "cell_type": "code",
      "source": [
        "claims_df.show()"
      ],
      "metadata": {
        "colab": {
          "base_uri": "https://localhost:8080/"
        },
        "id": "kFvmzUvIHonh",
        "outputId": "e224a88b-e96f-46d6-fa86-0048c48c335d"
      },
      "execution_count": null,
      "outputs": [
        {
          "output_type": "stream",
          "name": "stdout",
          "text": [
            "+--------------+-----------+-----------------+------------+-----------+---------+---------------------+--------------------+-----------+----------+-----------+-------------+------------+---------------+-------------+--------------+------------------+-------------+----------------+----------+-------+-------------------+--------------+--------------+----------+--------------------+\n",
            "|allowed_amount|    card_id|claim_line_number|claim_status|days_supply|fill_date|maintenance_drug_flag|     medication_name|     ndc_11| paid_date|pharmacy_id|pharmacy_name|pharmacy_npi|pharmacy_tax_id|prescriber_id|prescriber_npi|quantity_dispensed|refill_number|retail_mail_flag|  run_date| rxtype|specialty_drug_flag|strength_units|strength_value|uploadDate|        claim_number|\n",
            "+--------------+-----------+-----------------+------------+-----------+---------+---------------------+--------------------+-----------+----------+-----------+-------------+------------+---------------+-------------+--------------+------------------+-------------+----------------+----------+-------+-------------------+--------------+--------------+----------+--------------------+\n",
            "|          5.89|29057550656|                1|        PAID|         30|     null|                    Y|LOSARTAN POTASSIU...|57237020790|2019-05-01|       null|      UNKNOWN|  1356842512|710862119      |         null|          null|            30.000|            0|               Y|2020-03-06|GENERIC|                  N|              |         0.000|2020-03-11|60498271472414123636|\n",
            "|          4.00|29057550656|                1|        PAID|         30|     null|                    Y|LOSARTAN POTASSIU...|57237020790|2019-03-01|       null|      UNKNOWN|  1356842512|710862119      |        57399|          null|            30.000|            0|               Y|2020-03-06|GENERIC|                  N|              |         0.000|2020-03-11|71190740635490245298|\n",
            "|         10.67|29057550656|                1|        PAID|         23|     null|                    N|TIZANIDINE HYDROC...|55111018015|2019-08-01|       null|      UNKNOWN|  1356842512|710862119      |        57399|          null|            90.000|            0|               Y|2020-03-06|GENERIC|                  N|    MG        |         4.000|2020-03-11|13233487283783015444|\n",
            "|         10.00|29057550656|                1|        PAID|         90|     null|                    Y|METFORMIN HYDROCH...|68645054559|2019-11-01|       null|      UNKNOWN|  1356842512|710862119      |        57399|          null|           180.000|            0|               Y|2020-03-06|GENERIC|                  N|    MG        |      1000.000|2020-03-11|99892611961863704382|\n",
            "|         10.00|29057550656|                1|        PAID|         90|     null|                    Y|METFORMIN HYDROCH...|68645054559|2019-09-01|       null|      UNKNOWN|  1356842512|710862119      |        57399|          null|           180.000|            0|               Y|2020-03-06|GENERIC|                  N|    MG        |      1000.000|2020-03-11|67831913637139082430|\n",
            "|         10.00|29057550656|                1|        PAID|         90|     null|                    Y|METFORMIN HYDROCH...|68645054559|2019-05-01|       null|      UNKNOWN|  1356842512|710862119      |        57399|          null|           180.000|            0|               Y|2020-03-06|GENERIC|                  N|    MG        |      1000.000|2020-03-11|69687198995240740884|\n",
            "|          4.00|29057550656|                1|        PAID|         30|     null|                    Y|METFORMIN HYDROCH...|68645054559|2019-03-01|       null|      UNKNOWN|  1356842512|710862119      |         null|          null|            60.000|            0|               Y|2020-03-06|GENERIC|                  N|    MG        |      1000.000|2020-03-11|87414406843560807855|\n",
            "|          6.16|29057550656|                1|        PAID|         90|     null|                    Y|METFORMIN HCL    ...|68645054559|2018-12-01|       null|      UNKNOWN|  1356842512|710862119      |        57399|          null|           180.000|            0|               Y|2020-03-06|GENERIC|                  N|    MG        |      1000.000|2020-03-11|30339057003443394167|\n",
            "|          6.16|29057550656|                1|        PAID|         90|     null|                    Y|METFORMIN HCL    ...|68645054559|2018-08-01|       null|      UNKNOWN|  1356842512|710862119      |        57399|          null|           180.000|            0|               Y|2020-03-06|GENERIC|                  N|    MG        |      1000.000|2020-03-11|11758247605425746934|\n",
            "|          3.19|29057550656|                1|        PAID|         30|     null|                    Y|LOSARTAN POTASSIU...|62332004890|2018-12-01|       null|      UNKNOWN|  1356842512|710862119      |        57399|          null|            30.000|            0|               Y|2020-03-06|GENERIC|                  N|              |         0.000|2020-03-11|95613453610125006355|\n",
            "|         14.24|29057550656|                1|        PAID|         30|     null|                    Y|VALSARTAN/HYDROCH...|65862054890|2020-01-01|       null|      UNKNOWN|  1356842512|710862119      |        57399|          null|            30.000|            1|               Y|2020-03-06|GENERIC|                  N|              |         0.000|2020-03-11|96722983039533958825|\n",
            "|         11.77|29057550656|                1|        PAID|         30|     null|                    Y|VALSARTAN/HYDROCH...|65862054890|2019-12-01|       null|      UNKNOWN|  1356842512|710862119      |        57399|          null|            30.000|            0|               Y|2020-03-06|GENERIC|                  N|              |         0.000|2020-03-11|17331101786388905527|\n",
            "|         11.77|29057550656|                1|        PAID|         30|     null|                    Y|VALSARTAN/HYDROCH...|65862054890|2019-12-01|       null|      UNKNOWN|  1356842512|710862119      |        57399|          null|            30.000|            1|               Y|2020-03-06|GENERIC|                  N|              |         0.000|2020-03-11|92920084235892093168|\n",
            "|         23.31|29057550656|                1|        PAID|         90|     null|                    Y|VALSARTAN/HYDROCH...|65862054890|2019-09-01|       null|      UNKNOWN|  1356842512|710862119      |        57399|          null|            90.000|            0|               Y|2020-03-06|GENERIC|                  N|              |         0.000|2020-03-11|95811906580782171804|\n",
            "|          8.72|29057550656|                1|        PAID|         30|     null|                    Y|VALSARTAN/HYDROCH...|65862054890|2019-07-01|       null|      UNKNOWN|  1356842512|710862119      |        57399|          null|            30.000|            2|               Y|2020-03-06|GENERIC|                  N|              |         0.000|2020-03-11|88100007220678171199|\n",
            "|          8.72|29057550656|                1|        PAID|         30|     null|                    Y|VALSARTAN/HYDROCH...|65862054890|2019-06-01|       null|      UNKNOWN|  1356842512|710862119      |        57399|          null|            30.000|            1|               Y|2020-03-06|GENERIC|                  N|              |         0.000|2020-03-11|48899932661715485221|\n",
            "|          8.72|29057550656|                1|        PAID|         30|     null|                    Y|VALSARTAN/HYDROCH...|65862054890|2019-05-01|       null|      UNKNOWN|  1356842512|710862119      |        57399|          null|            30.000|            0|               Y|2020-03-06|GENERIC|                  N|              |         0.000|2020-03-11|32828093773967865468|\n",
            "|         12.56|29057550656|                1|        PAID|          9|     null|                    N|AMOXICILLIN/CLAVU...|66685100100|2018-11-01|       null|      UNKNOWN|  1356842512|710862119      |        66511|          null|            20.000|            0|               Y|2020-03-06|GENERIC|                  N|              |         0.000|2020-03-11|72419763155760704662|\n",
            "|          6.04|29057550656|                1|        PAID|         30|     null|                    Y|ROSUVASTATIN CALC...|00781540192|2019-05-01|       null|      UNKNOWN|  1356842512|710862119      |        57399|          null|            30.000|            0|               Y|2020-03-06|GENERIC|                  N|    MG        |        10.000|2020-03-11|47767536972280086579|\n",
            "|          6.82|29057550656|                1|        PAID|         30|     null|                    Y|ROSUVASTATIN CALC...|00781540192|2019-03-01|       null|      UNKNOWN|  1356842512|710862119      |         null|          null|            30.000|            0|               Y|2020-03-06|GENERIC|                  N|    MG        |        10.000|2020-03-11|49875330603258109574|\n",
            "+--------------+-----------+-----------------+------------+-----------+---------+---------------------+--------------------+-----------+----------+-----------+-------------+------------+---------------+-------------+--------------+------------------+-------------+----------------+----------+-------+-------------------+--------------+--------------+----------+--------------------+\n",
            "only showing top 20 rows\n",
            "\n"
          ]
        }
      ]
    },
    {
      "cell_type": "markdown",
      "source": [
        "**Question 2 : how many rows are there in the initial pharmacy claims data set?**\n",
        "Answer : 11524"
      ],
      "metadata": {
        "id": "hx6WUbppQCA-"
      }
    },
    {
      "cell_type": "code",
      "source": [
        "claims_df.count()"
      ],
      "metadata": {
        "colab": {
          "base_uri": "https://localhost:8080/"
        },
        "id": "ZpLZY6cePKY5",
        "outputId": "073a9313-23be-4b71-b1d5-ff1ac9017068"
      },
      "execution_count": null,
      "outputs": [
        {
          "output_type": "execute_result",
          "data": {
            "text/plain": [
              "11524"
            ]
          },
          "metadata": {},
          "execution_count": 12
        }
      ]
    },
    {
      "cell_type": "code",
      "source": [
        "valid_claims = claims_df.filter(claims_df.fill_date.isNotNull()).filter(claims_df.claim_status!='DENIED')"
      ],
      "metadata": {
        "id": "lZ7_ylfm6XnD"
      },
      "execution_count": null,
      "outputs": []
    },
    {
      "cell_type": "code",
      "source": [
        "valid_claims.show()"
      ],
      "metadata": {
        "colab": {
          "base_uri": "https://localhost:8080/"
        },
        "id": "8YTDUfwnFbzH",
        "outputId": "a75c54e1-dec3-4f6f-a8c3-5980eb3fbd84"
      },
      "execution_count": null,
      "outputs": [
        {
          "output_type": "stream",
          "name": "stdout",
          "text": [
            "+--------------+-----------+-----------------+------------+-----------+----------+---------------------+--------------------+-----------+----------+-----------+-------------+------------+---------------+-------------+--------------+------------------+-------------+----------------+----------+-------+-------------------+--------------+--------------+----------+--------------------+\n",
            "|allowed_amount|    card_id|claim_line_number|claim_status|days_supply| fill_date|maintenance_drug_flag|     medication_name|     ndc_11| paid_date|pharmacy_id|pharmacy_name|pharmacy_npi|pharmacy_tax_id|prescriber_id|prescriber_npi|quantity_dispensed|refill_number|retail_mail_flag|  run_date| rxtype|specialty_drug_flag|strength_units|strength_value|uploadDate|        claim_number|\n",
            "+--------------+-----------+-----------------+------------+-----------+----------+---------------------+--------------------+-----------+----------+-----------+-------------+------------+---------------+-------------+--------------+------------------+-------------+----------------+----------+-------+-------------------+--------------+--------------+----------+--------------------+\n",
            "|          8.35|37478876581|                1|        PAID|         10|2019-12-01|                    N|MUPIROCIN        ...|00093101042|2019-12-01|      P6877|    WALGREENS|  1659386977|361924025      |        QQ9BU|          null|            22.000|            0|               Y|2020-03-06|GENERIC|                  N|    %         |         2.000|2020-03-11|69137068178341921314|\n",
            "|          6.60|37478876581|                1|        PAID|         10|2019-04-01|                    N|LEVOFLOXACIN     ...|31722072250|2019-05-01|      P6877|    WALGREENS|  1659386977|361924025      |        S7NKC|          null|            10.000|            0|               Y|2020-03-06|GENERIC|                  N|    MG        |       500.000|2020-03-11|24618811673664712775|\n",
            "|         14.35|37478876581|                1|        PAID|         30|2020-01-01|                    Y|MEMANTINE HYDROCH...|47335032186|2020-01-01|      P6877|    WALGREENS|  1659386977|361924025      |        56408|          null|            60.000|            1|               Y|2020-03-06|GENERIC|                  N|    MG        |         5.000|2020-03-11|47897380236274431240|\n",
            "|         13.32|37478876581|                1|        PAID|         30|2019-07-01|                    Y|MEMANTINE HCL    ...|47335032186|2019-07-01|      P6877|    WALGREENS|  1659386977|361924025      |        56408|          null|            60.000|            0|               Y|2020-03-06|GENERIC|                  N|    MG        |         5.000|2020-03-11|81126071020124641073|\n",
            "|         14.50|37478876581|                1|        PAID|         30|2019-12-01|                    Y|MEMANTINE HCL    ...|47335032186|2019-12-01|      P6877|    WALGREENS|  1659386977|361924025      |        56408|          null|            60.000|            1|               Y|2020-03-06|GENERIC|                  N|    MG        |         5.000|2020-03-11|76550362607705750909|\n",
            "|         26.57|37478876581|                1|        PAID|         60|2019-10-01|                    Y|MEMANTINE HCL    ...|47335032186|2019-10-01|      P6877|    WALGREENS|  1659386977|361924025      |        56408|          null|           120.000|            0|               Y|2020-03-06|GENERIC|                  N|    MG        |         5.000|2020-03-11|99163196281393692561|\n",
            "|         38.47|37478876581|                1|        PAID|         90|2019-07-01|                    Y|MEMANTINE HCL    ...|47335032186|2019-07-01|      P6877|    WALGREENS|  1659386977|361924025      |        56408|          null|           180.000|            0|               Y|2020-03-06|GENERIC|                  N|    MG        |         5.000|2020-03-11|71864034472213102341|\n",
            "|          6.42|37478876581|                1|        PAID|         13|2020-01-01|                    Y|MEMANTINE HYDROCH...|47335032186|2020-01-01|      P6877|    WALGREENS|  1659386977|361924025      |        56408|          null|            26.000|            0|               Y|2020-03-06|GENERIC|                  N|    MG        |         5.000|2020-03-11|86764579665987822415|\n",
            "|          2.96|37478876581|                1|        PAID|          1|2019-12-01|                    N|FLUCONAZOLE      ...|67405060301|2019-12-01|      P6877|    WALGREENS|  1659386977|361924025      |        TANXY|          null|             1.000|            0|               Y|2020-03-06|GENERIC|                  N|    MG        |       150.000|2020-03-11|85971369878542232412|\n",
            "|          0.80|37478876581|                1|        PAID|         90|2019-12-01|                    N|ASPIRIN ADULT LOW...|00904678370|2020-01-01|      P6877|    WALGREENS|  1659386977|361924025      |        FNPP3|          null|            90.000|            0|               Y|2020-03-06|GENERIC|                  N|    MG        |        81.000|2020-03-11|12164113773692998524|\n",
            "|          0.77|37478876581|                1|        PAID|         30|2019-12-01|                    N|ASPIRIN ADULT LOW...|00904678370|2019-12-01|      P6877|    WALGREENS|  1659386977|361924025      |        FNPP3|          null|            30.000|            0|               Y|2020-03-06|GENERIC|                  N|    MG        |        81.000|2020-03-11|58919100591803239117|\n",
            "|          5.61|37478876581|                1|        PAID|         90|2019-05-01|                    N|ASPIRIN 81 LOW DO...|00363021807|2019-05-01|      P6877|    WALGREENS|  1659386977|361924025      |        S7NKC|          null|            90.000|            0|               Y|2020-03-06|GENERIC|                  N|    MG        |        81.000|2020-03-11|57915038724289009462|\n",
            "|          8.64|37478876581|                1|        PAID|         30|2019-02-01|                    Y|METFORMIN HYDROCH...|51224000760|2019-02-01|      P6877|    WALGREENS|  1659386977|361924025      |        FNPP3|          null|           120.000|            0|               Y|2020-03-06|GENERIC|                  N|    MG        |       500.000|2020-03-11|83720491967455050935|\n",
            "|        147.72|37478876581|                1|        PAID|         90|2019-07-01|                    Y|DIVALPROEX SODIUM...|65162075510|2019-07-01|      P6877|    WALGREENS|  1659386977|361924025      |        56408|          null|           270.000|            0|               Y|2020-03-06|GENERIC|                  N|    MG        |       250.000|2020-03-11|77018735231861536170|\n",
            "|         13.58|37478876581|                1|        PAID|         90|2019-03-01|                    Y|PANTOPRAZOLE SODI...|59746028490|2019-03-01|      P6877|    WALGREENS|  1659386977|361924025      |        FNPP3|          null|            90.000|            0|               Y|2020-03-06|GENERIC|                  N|    MG        |        40.000|2020-03-11|32793336950693392188|\n",
            "|          5.03|37478876581|                1|        PAID|         30|2019-02-01|                    Y|PANTOPRAZOLE SODI...|59746028490|2019-02-01|      P6877|    WALGREENS|  1659386977|361924025      |        FNPP3|          null|            30.000|            0|               Y|2020-03-06|GENERIC|                  N|    MG        |        40.000|2020-03-11|72310330840734810093|\n",
            "|         17.20|37478876581|                1|        PAID|         30|2019-07-01|                    N|RIZATRIPTAN BENZO...|57237008663|2019-07-01|      P6877|    WALGREENS|  1659386977|361924025      |        56408|          null|            10.000|            0|               Y|2020-03-06|GENERIC|                  N|    MG        |        10.000|2020-03-11|71909108912867026297|\n",
            "|        100.32|37478876581|                1|        PAID|         90|2019-10-01|                    N|CONTOUR NEXT BLOO...|00193731221|2019-10-01|      P6877|    WALGREENS|  1659386977|361924025      |        SLUKV|          null|           100.000|            1|               Y|2020-03-06|  BRAND|                  N|              |         0.000|2020-03-11|69776076754737430428|\n",
            "|        100.32|37478876581|                1|        PAID|         90|2019-07-01|                    N|CONTOUR NEXT BLOO...|00193731221|2019-07-01|      P6877|    WALGREENS|  1659386977|361924025      |        SLUKV|          null|           100.000|            0|               Y|2020-03-06|  BRAND|                  N|              |         0.000|2020-03-11|78448952987757357315|\n",
            "|        100.32|37478876581|                1|        PAID|         90|2019-12-01|                    N|CONTOUR NEXT BLOO...|00193731221|2020-01-01|      P6877|    WALGREENS|  1659386977|361924025      |        SLUKV|          null|           100.000|            2|               Y|2020-03-06|  BRAND|                  N|              |         0.000|2020-03-11|64683154516100884676|\n",
            "+--------------+-----------+-----------------+------------+-----------+----------+---------------------+--------------------+-----------+----------+-----------+-------------+------------+---------------+-------------+--------------+------------------+-------------+----------------+----------+-------+-------------------+--------------+--------------+----------+--------------------+\n",
            "only showing top 20 rows\n",
            "\n"
          ]
        }
      ]
    },
    {
      "cell_type": "code",
      "source": [
        "df_1 = valid_claims.groupBy('card_id','claim_number','fill_date','ndc_11').agg(sum('days_supply').alias('net_days_supply'), sum('allowed_amount').alias('net_allowed_amount'))"
      ],
      "metadata": {
        "id": "LYAEScxn9dHS"
      },
      "execution_count": null,
      "outputs": []
    },
    {
      "cell_type": "code",
      "source": [
        "valid_days_df = df_1.filter(df_1.net_days_supply > 0)"
      ],
      "metadata": {
        "id": "IbareimmFhiw"
      },
      "execution_count": null,
      "outputs": []
    },
    {
      "cell_type": "code",
      "source": [
        "valid_days_df.count()"
      ],
      "metadata": {
        "colab": {
          "base_uri": "https://localhost:8080/"
        },
        "id": "NuIP_AWXGPdv",
        "outputId": "958fe384-ff5b-4563-ff82-e12df238df62"
      },
      "execution_count": null,
      "outputs": [
        {
          "output_type": "execute_result",
          "data": {
            "text/plain": [
              "3586"
            ]
          },
          "metadata": {},
          "execution_count": 103
        }
      ]
    },
    {
      "cell_type": "markdown",
      "source": [
        "**Question 3: How many prepared claims do you have at the end of step 3?\n",
        "Answer : 3586**"
      ],
      "metadata": {
        "id": "xKPBgHapHr4T"
      }
    },
    {
      "cell_type": "code",
      "source": [
        "valid_days_df.show()"
      ],
      "metadata": {
        "id": "uVS77D0kIALd",
        "colab": {
          "base_uri": "https://localhost:8080/"
        },
        "outputId": "a76f6283-bdb4-4148-bccb-ded4ea7ce16d"
      },
      "execution_count": 114,
      "outputs": [
        {
          "output_type": "stream",
          "name": "stdout",
          "text": [
            "+-----------+--------------------+----------+-----------+---------------+------------------+\n",
            "|    card_id|        claim_number| fill_date|     ndc_11|net_days_supply|net_allowed_amount|\n",
            "+-----------+--------------------+----------+-----------+---------------+------------------+\n",
            "|14352121939|80210894373363104910|2018-08-01|69097014912|           40.0|             11.44|\n",
            "|85027626890|92648304520199540092|2019-11-01|11534018701|            5.0|             62.61|\n",
            "|60216351600|77749091582381951081|2018-05-01|16729018201|           30.0|              5.46|\n",
            "|36614641190|90288769027692286047|2018-02-01|65162010250|           30.0|              2.59|\n",
            "|41403827121|45593195524218760836|2019-10-01|00378718705|           30.0|              5.89|\n",
            "|57039941566|87434987409725815380|2019-09-01|00378718705|           90.0|             16.97|\n",
            "|37307523917|72516389673490944291|2019-05-01|45802006405|           30.0|             17.28|\n",
            "|40590474120|29763401176651419802|2017-08-01|00781523864|            3.0|              3.97|\n",
            "|48982084799|62796286633579071744|2019-01-01|60505258009|           90.0|             18.42|\n",
            "|32705186952|88973613634581940868|2019-12-01|00487020103|            5.0|              8.85|\n",
            "|98695447388|61501993954580570914|2019-05-01|64980046799|           28.0|             61.43|\n",
            "|88712416697|51586735415268157621|2018-05-01|00093227534|           10.0|             14.45|\n",
            "|02670828752|42112010852925345357|2019-02-01|00406055201|            2.0|              2.58|\n",
            "|38243495164|68209691025809612863|2019-01-01|67877019990|           90.0|             15.04|\n",
            "|26055265781|22803817225190090380|2019-04-01|63304082805|           90.0|             12.25|\n",
            "|14996341575|90061040576783502144|2019-08-01|64380080807|           30.0|             12.81|\n",
            "|02906936230|95120426219444264658|2019-10-01|00597015230|           30.0|            494.64|\n",
            "|95591523910|92508915067092762115|2019-10-01|00006008131|           30.0|            422.82|\n",
            "|49359389119|79784516292991413851|2019-06-01|00054327099|           90.0|              31.5|\n",
            "|24087907558|78373831019035963483|2018-02-01|31722088490|           90.0|             16.98|\n",
            "+-----------+--------------------+----------+-----------+---------------+------------------+\n",
            "only showing top 20 rows\n",
            "\n"
          ]
        }
      ]
    },
    {
      "cell_type": "code",
      "source": [
        "valid_claims.show()"
      ],
      "metadata": {
        "colab": {
          "base_uri": "https://localhost:8080/"
        },
        "id": "CsayDktDRFiI",
        "outputId": "30cec6f5-4758-4637-8ce4-02e8004f4c1a"
      },
      "execution_count": 115,
      "outputs": [
        {
          "output_type": "stream",
          "name": "stdout",
          "text": [
            "+--------------+-----------+-----------------+------------+-----------+----------+---------------------+--------------------+-----------+----------+-----------+-------------+------------+---------------+-------------+--------------+------------------+-------------+----------------+----------+-------+-------------------+--------------+--------------+----------+--------------------+\n",
            "|allowed_amount|    card_id|claim_line_number|claim_status|days_supply| fill_date|maintenance_drug_flag|     medication_name|     ndc_11| paid_date|pharmacy_id|pharmacy_name|pharmacy_npi|pharmacy_tax_id|prescriber_id|prescriber_npi|quantity_dispensed|refill_number|retail_mail_flag|  run_date| rxtype|specialty_drug_flag|strength_units|strength_value|uploadDate|        claim_number|\n",
            "+--------------+-----------+-----------------+------------+-----------+----------+---------------------+--------------------+-----------+----------+-----------+-------------+------------+---------------+-------------+--------------+------------------+-------------+----------------+----------+-------+-------------------+--------------+--------------+----------+--------------------+\n",
            "|          8.35|37478876581|                1|        PAID|         10|2019-12-01|                    N|MUPIROCIN        ...|00093101042|2019-12-01|      P6877|    WALGREENS|  1659386977|361924025      |        QQ9BU|          null|            22.000|            0|               Y|2020-03-06|GENERIC|                  N|    %         |         2.000|2020-03-11|69137068178341921314|\n",
            "|          6.60|37478876581|                1|        PAID|         10|2019-04-01|                    N|LEVOFLOXACIN     ...|31722072250|2019-05-01|      P6877|    WALGREENS|  1659386977|361924025      |        S7NKC|          null|            10.000|            0|               Y|2020-03-06|GENERIC|                  N|    MG        |       500.000|2020-03-11|24618811673664712775|\n",
            "|         14.35|37478876581|                1|        PAID|         30|2020-01-01|                    Y|MEMANTINE HYDROCH...|47335032186|2020-01-01|      P6877|    WALGREENS|  1659386977|361924025      |        56408|          null|            60.000|            1|               Y|2020-03-06|GENERIC|                  N|    MG        |         5.000|2020-03-11|47897380236274431240|\n",
            "|         13.32|37478876581|                1|        PAID|         30|2019-07-01|                    Y|MEMANTINE HCL    ...|47335032186|2019-07-01|      P6877|    WALGREENS|  1659386977|361924025      |        56408|          null|            60.000|            0|               Y|2020-03-06|GENERIC|                  N|    MG        |         5.000|2020-03-11|81126071020124641073|\n",
            "|         14.50|37478876581|                1|        PAID|         30|2019-12-01|                    Y|MEMANTINE HCL    ...|47335032186|2019-12-01|      P6877|    WALGREENS|  1659386977|361924025      |        56408|          null|            60.000|            1|               Y|2020-03-06|GENERIC|                  N|    MG        |         5.000|2020-03-11|76550362607705750909|\n",
            "|         26.57|37478876581|                1|        PAID|         60|2019-10-01|                    Y|MEMANTINE HCL    ...|47335032186|2019-10-01|      P6877|    WALGREENS|  1659386977|361924025      |        56408|          null|           120.000|            0|               Y|2020-03-06|GENERIC|                  N|    MG        |         5.000|2020-03-11|99163196281393692561|\n",
            "|         38.47|37478876581|                1|        PAID|         90|2019-07-01|                    Y|MEMANTINE HCL    ...|47335032186|2019-07-01|      P6877|    WALGREENS|  1659386977|361924025      |        56408|          null|           180.000|            0|               Y|2020-03-06|GENERIC|                  N|    MG        |         5.000|2020-03-11|71864034472213102341|\n",
            "|          6.42|37478876581|                1|        PAID|         13|2020-01-01|                    Y|MEMANTINE HYDROCH...|47335032186|2020-01-01|      P6877|    WALGREENS|  1659386977|361924025      |        56408|          null|            26.000|            0|               Y|2020-03-06|GENERIC|                  N|    MG        |         5.000|2020-03-11|86764579665987822415|\n",
            "|          2.96|37478876581|                1|        PAID|          1|2019-12-01|                    N|FLUCONAZOLE      ...|67405060301|2019-12-01|      P6877|    WALGREENS|  1659386977|361924025      |        TANXY|          null|             1.000|            0|               Y|2020-03-06|GENERIC|                  N|    MG        |       150.000|2020-03-11|85971369878542232412|\n",
            "|          0.80|37478876581|                1|        PAID|         90|2019-12-01|                    N|ASPIRIN ADULT LOW...|00904678370|2020-01-01|      P6877|    WALGREENS|  1659386977|361924025      |        FNPP3|          null|            90.000|            0|               Y|2020-03-06|GENERIC|                  N|    MG        |        81.000|2020-03-11|12164113773692998524|\n",
            "|          0.77|37478876581|                1|        PAID|         30|2019-12-01|                    N|ASPIRIN ADULT LOW...|00904678370|2019-12-01|      P6877|    WALGREENS|  1659386977|361924025      |        FNPP3|          null|            30.000|            0|               Y|2020-03-06|GENERIC|                  N|    MG        |        81.000|2020-03-11|58919100591803239117|\n",
            "|          5.61|37478876581|                1|        PAID|         90|2019-05-01|                    N|ASPIRIN 81 LOW DO...|00363021807|2019-05-01|      P6877|    WALGREENS|  1659386977|361924025      |        S7NKC|          null|            90.000|            0|               Y|2020-03-06|GENERIC|                  N|    MG        |        81.000|2020-03-11|57915038724289009462|\n",
            "|          8.64|37478876581|                1|        PAID|         30|2019-02-01|                    Y|METFORMIN HYDROCH...|51224000760|2019-02-01|      P6877|    WALGREENS|  1659386977|361924025      |        FNPP3|          null|           120.000|            0|               Y|2020-03-06|GENERIC|                  N|    MG        |       500.000|2020-03-11|83720491967455050935|\n",
            "|        147.72|37478876581|                1|        PAID|         90|2019-07-01|                    Y|DIVALPROEX SODIUM...|65162075510|2019-07-01|      P6877|    WALGREENS|  1659386977|361924025      |        56408|          null|           270.000|            0|               Y|2020-03-06|GENERIC|                  N|    MG        |       250.000|2020-03-11|77018735231861536170|\n",
            "|         13.58|37478876581|                1|        PAID|         90|2019-03-01|                    Y|PANTOPRAZOLE SODI...|59746028490|2019-03-01|      P6877|    WALGREENS|  1659386977|361924025      |        FNPP3|          null|            90.000|            0|               Y|2020-03-06|GENERIC|                  N|    MG        |        40.000|2020-03-11|32793336950693392188|\n",
            "|          5.03|37478876581|                1|        PAID|         30|2019-02-01|                    Y|PANTOPRAZOLE SODI...|59746028490|2019-02-01|      P6877|    WALGREENS|  1659386977|361924025      |        FNPP3|          null|            30.000|            0|               Y|2020-03-06|GENERIC|                  N|    MG        |        40.000|2020-03-11|72310330840734810093|\n",
            "|         17.20|37478876581|                1|        PAID|         30|2019-07-01|                    N|RIZATRIPTAN BENZO...|57237008663|2019-07-01|      P6877|    WALGREENS|  1659386977|361924025      |        56408|          null|            10.000|            0|               Y|2020-03-06|GENERIC|                  N|    MG        |        10.000|2020-03-11|71909108912867026297|\n",
            "|        100.32|37478876581|                1|        PAID|         90|2019-10-01|                    N|CONTOUR NEXT BLOO...|00193731221|2019-10-01|      P6877|    WALGREENS|  1659386977|361924025      |        SLUKV|          null|           100.000|            1|               Y|2020-03-06|  BRAND|                  N|              |         0.000|2020-03-11|69776076754737430428|\n",
            "|        100.32|37478876581|                1|        PAID|         90|2019-07-01|                    N|CONTOUR NEXT BLOO...|00193731221|2019-07-01|      P6877|    WALGREENS|  1659386977|361924025      |        SLUKV|          null|           100.000|            0|               Y|2020-03-06|  BRAND|                  N|              |         0.000|2020-03-11|78448952987757357315|\n",
            "|        100.32|37478876581|                1|        PAID|         90|2019-12-01|                    N|CONTOUR NEXT BLOO...|00193731221|2020-01-01|      P6877|    WALGREENS|  1659386977|361924025      |        SLUKV|          null|           100.000|            2|               Y|2020-03-06|  BRAND|                  N|              |         0.000|2020-03-11|64683154516100884676|\n",
            "+--------------+-----------+-----------------+------------+-----------+----------+---------------------+--------------------+-----------+----------+-----------+-------------+------------+---------------+-------------+--------------+------------------+-------------+----------------+----------+-------+-------------------+--------------+--------------+----------+--------------------+\n",
            "only showing top 20 rows\n",
            "\n"
          ]
        }
      ]
    },
    {
      "cell_type": "code",
      "source": [
        "data_joined = valid_days_df.join(valid_claims, (valid_days_df.card_id == valid_claims.card_id) & \n",
        "                                 (valid_days_df.claim_number==valid_claims.claim_number)&\n",
        "                                 (valid_days_df.fill_date== valid_claims.fill_date)&\n",
        "                                 (valid_days_df.ndc_11 ==valid_claims.ndc_11)).dropDuplicates()\n"
      ],
      "metadata": {
        "id": "F3fci6UTMYG7"
      },
      "execution_count": 128,
      "outputs": []
    },
    {
      "cell_type": "code",
      "source": [
        "data_joined = valid_days_df.join(valid_claims, [\"card_id\",\"claim_number\",\"fill_date\",\"ndc_11\"]).dropDuplicates()"
      ],
      "metadata": {
        "id": "Wy-rY5MyX2tV"
      },
      "execution_count": 146,
      "outputs": []
    },
    {
      "cell_type": "code",
      "source": [
        "data_joined.printSchema()"
      ],
      "metadata": {
        "colab": {
          "base_uri": "https://localhost:8080/"
        },
        "id": "ApmA-XyRXZNp",
        "outputId": "01d14981-e9a6-4000-f858-53869cc2c58e"
      },
      "execution_count": 147,
      "outputs": [
        {
          "output_type": "stream",
          "name": "stdout",
          "text": [
            "root\n",
            " |-- card_id: string (nullable = true)\n",
            " |-- claim_number: string (nullable = true)\n",
            " |-- fill_date: string (nullable = true)\n",
            " |-- ndc_11: string (nullable = true)\n",
            " |-- net_days_supply: double (nullable = true)\n",
            " |-- net_allowed_amount: double (nullable = true)\n",
            " |-- allowed_amount: string (nullable = true)\n",
            " |-- claim_line_number: string (nullable = true)\n",
            " |-- claim_status: string (nullable = true)\n",
            " |-- days_supply: string (nullable = true)\n",
            " |-- maintenance_drug_flag: string (nullable = true)\n",
            " |-- medication_name: string (nullable = true)\n",
            " |-- paid_date: string (nullable = true)\n",
            " |-- pharmacy_id: string (nullable = true)\n",
            " |-- pharmacy_name: string (nullable = true)\n",
            " |-- pharmacy_npi: string (nullable = true)\n",
            " |-- pharmacy_tax_id: string (nullable = true)\n",
            " |-- prescriber_id: string (nullable = true)\n",
            " |-- prescriber_npi: string (nullable = true)\n",
            " |-- quantity_dispensed: string (nullable = true)\n",
            " |-- refill_number: string (nullable = true)\n",
            " |-- retail_mail_flag: string (nullable = true)\n",
            " |-- run_date: string (nullable = true)\n",
            " |-- rxtype: string (nullable = true)\n",
            " |-- specialty_drug_flag: string (nullable = true)\n",
            " |-- strength_units: string (nullable = true)\n",
            " |-- strength_value: string (nullable = true)\n",
            " |-- uploadDate: string (nullable = true)\n",
            "\n"
          ]
        }
      ]
    },
    {
      "cell_type": "code",
      "source": [
        "claims_enrollment_df = data_joined.join(enrol_df, enrol_df.card_id==data_joined.card_id).show()"
      ],
      "metadata": {
        "colab": {
          "base_uri": "https://localhost:8080/"
        },
        "id": "2y04IcqQTA1x",
        "outputId": "f33113f3-b8a4-4174-a1ed-f5be62760853"
      },
      "execution_count": 150,
      "outputs": [
        {
          "output_type": "stream",
          "name": "stdout",
          "text": [
            "+-------+------------+---------+------+---------------+------------------+--------------+-----------------+------------+-----------+---------------------+---------------+---------+-----------+-------------+------------+---------------+-------------+--------------+------------------+-------------+----------------+--------+------+-------------------+--------------+--------------+----------+----------+-------+-------------------+---------------------+----------+------+---------+\n",
            "|card_id|claim_number|fill_date|ndc_11|net_days_supply|net_allowed_amount|allowed_amount|claim_line_number|claim_status|days_supply|maintenance_drug_flag|medication_name|paid_date|pharmacy_id|pharmacy_name|pharmacy_npi|pharmacy_tax_id|prescriber_id|prescriber_npi|quantity_dispensed|refill_number|retail_mail_flag|run_date|rxtype|specialty_drug_flag|strength_units|strength_value|uploadDate|birth_date|card_id|enrollment_end_date|enrollment_start_date|first_name|gender|last_name|\n",
            "+-------+------------+---------+------+---------------+------------------+--------------+-----------------+------------+-----------+---------------------+---------------+---------+-----------+-------------+------------+---------------+-------------+--------------+------------------+-------------+----------------+--------+------+-------------------+--------------+--------------+----------+----------+-------+-------------------+---------------------+----------+------+---------+\n",
            "+-------+------------+---------+------+---------------+------------------+--------------+-----------------+------------+-----------+---------------------+---------------+---------+-----------+-------------+------------+---------------+-------------+--------------+------------------+-------------+----------------+--------+------+-------------------+--------------+--------------+----------+----------+-------+-------------------+---------------------+----------+------+---------+\n",
            "\n"
          ]
        }
      ]
    },
    {
      "cell_type": "code",
      "source": [
        "df_test=data_joined.dropDuplicates()"
      ],
      "metadata": {
        "id": "PzNRFmRwH_bW"
      },
      "execution_count": 125,
      "outputs": []
    },
    {
      "cell_type": "code",
      "source": [
        "df_test.count()"
      ],
      "metadata": {
        "colab": {
          "base_uri": "https://localhost:8080/"
        },
        "id": "w77xfaPyS42p",
        "outputId": "c4a7031d-db55-43d8-bf6a-67150c2bbf08"
      },
      "execution_count": 126,
      "outputs": [
        {
          "output_type": "execute_result",
          "data": {
            "text/plain": [
              "4005"
            ]
          },
          "metadata": {},
          "execution_count": 126
        }
      ]
    },
    {
      "cell_type": "code",
      "source": [
        "from pyspark.sql.types import StructType,StructField, StringType, IntegerType\n",
        "data2 = [(\"1\",\"1234\",\"PAID\",100),\n",
        "    (\"1\",\"1234\",\"DECLINED\",-100),\n",
        "    (\"2\",\"123456\",\"PAID\",100)\n",
        "  ]\n",
        "\n",
        "schema = StructType([ \\\n",
        "    StructField(\"ID\",StringType(),True), \\\n",
        "    StructField(\"Number\",StringType(),True), \\\n",
        "    StructField(\"Status\",StringType(),True),\n",
        "    StructField(\"Amount\",IntegerType(),True)\n",
        "  ])\n",
        " \n",
        "df = spark.createDataFrame(data=data2,schema=schema)\n",
        "df.printSchema()\n",
        "df.show(truncate=False)"
      ],
      "metadata": {
        "colab": {
          "base_uri": "https://localhost:8080/"
        },
        "id": "PMXcJAaws90i",
        "outputId": "e1b6c12d-6ae2-44b6-e68b-79f6a7a80f67"
      },
      "execution_count": null,
      "outputs": [
        {
          "output_type": "stream",
          "name": "stdout",
          "text": [
            "root\n",
            " |-- ID: string (nullable = true)\n",
            " |-- Number: string (nullable = true)\n",
            " |-- Status: string (nullable = true)\n",
            " |-- Amount: integer (nullable = true)\n",
            "\n",
            "+---+------+--------+------+\n",
            "|ID |Number|Status  |Amount|\n",
            "+---+------+--------+------+\n",
            "|1  |1234  |PAID    |100   |\n",
            "|1  |1234  |DECLINED|-100  |\n",
            "|2  |123456|PAID    |100   |\n",
            "+---+------+--------+------+\n",
            "\n"
          ]
        }
      ]
    },
    {
      "cell_type": "code",
      "source": [
        "df_1 = df.groupBy('Number', 'ID').agg(sum('Amount').alias('sum'))"
      ],
      "metadata": {
        "id": "HdX-K3potUgc"
      },
      "execution_count": null,
      "outputs": []
    },
    {
      "cell_type": "code",
      "source": [
        "df_1.filter(df_1.sum > 0).show()"
      ],
      "metadata": {
        "colab": {
          "base_uri": "https://localhost:8080/"
        },
        "id": "pQCyTPLU8r8F",
        "outputId": "e9933ec2-7499-4dc3-a58c-5589ddeb7612"
      },
      "execution_count": null,
      "outputs": [
        {
          "output_type": "stream",
          "name": "stdout",
          "text": [
            "+------+---+---+\n",
            "|Number| ID|sum|\n",
            "+------+---+---+\n",
            "|123456|  2|100|\n",
            "+------+---+---+\n",
            "\n"
          ]
        }
      ]
    }
  ]
}